{
 "cells": [
  {
   "cell_type": "code",
   "execution_count": 1,
   "id": "50df5b25",
   "metadata": {},
   "outputs": [
    {
     "name": "stdout",
     "output_type": "stream",
     "text": [
      "[0, 1, 2, 3, 4, 5, 6, 7, 8, 9, 10]\n"
     ]
    }
   ],
   "source": [
    "lista = [0, 1, 2, 3, 4, 5, 6, 7, 8, 9, 10]\n",
    "print(lista)"
   ]
  },
  {
   "cell_type": "code",
   "execution_count": 4,
   "id": "7d590f0b",
   "metadata": {},
   "outputs": [
    {
     "name": "stdout",
     "output_type": "stream",
     "text": [
      "['cadeira', 'sofá', 'geladeira', 'armário', 'fogão']\n"
     ]
    }
   ],
   "source": [
    "lista2 = ['cadeira', 'sofá', 'geladeira', 'armário', 'fogão']\n",
    "print(lista2)"
   ]
  },
  {
   "cell_type": "code",
   "execution_count": 18,
   "id": "b0425585",
   "metadata": {},
   "outputs": [
    {
     "name": "stdout",
     "output_type": "stream",
     "text": [
      "A Milk é linda\n"
     ]
    }
   ],
   "source": [
    "milk = \"A Milk é\"\n",
    "linda = \" \" \"linda\"\n",
    "frasecerta = milk + linda\n",
    "print(frasecerta)"
   ]
  },
  {
   "cell_type": "code",
   "execution_count": 21,
   "id": "3d494ef5",
   "metadata": {},
   "outputs": [
    {
     "name": "stdout",
     "output_type": "stream",
     "text": [
      "{}\n"
     ]
    }
   ],
   "source": [
    "dict = {}\n",
    "print(dict)"
   ]
  },
  {
   "cell_type": "code",
   "execution_count": 24,
   "id": "9f921673",
   "metadata": {},
   "outputs": [
    {
     "data": {
      "text/plain": [
       "3"
      ]
     },
     "execution_count": 24,
     "metadata": {},
     "output_type": "execute_result"
    }
   ],
   "source": [
    "tupla = (1, 2, 2, 3, 4, 4, 4, 5)\n",
    "tupla.count(4)"
   ]
  },
  {
   "cell_type": "code",
   "execution_count": 35,
   "id": "6f2c0f9d",
   "metadata": {},
   "outputs": [
    {
     "name": "stdout",
     "output_type": "stream",
     "text": [
      "{'cor: marrom', 'comida: melancia', 'objeto: marreta'}\n"
     ]
    }
   ],
   "source": [
    "dict1 = {'comida: melancia', 'objeto: marreta', 'cor: marrom'}\n",
    "print(dict1)"
   ]
  },
  {
   "cell_type": "code",
   "execution_count": 36,
   "id": "01c1f189",
   "metadata": {},
   "outputs": [
    {
     "ename": "TypeError",
     "evalue": "'set' object does not support item assignment",
     "output_type": "error",
     "traceback": [
      "\u001b[1;31m---------------------------------------------------------------------------\u001b[0m",
      "\u001b[1;31mTypeError\u001b[0m                                 Traceback (most recent call last)",
      "\u001b[1;32m~\\AppData\\Local\\Temp\\ipykernel_11620\\3263723757.py\u001b[0m in \u001b[0;36m<module>\u001b[1;34m\u001b[0m\n\u001b[1;32m----> 1\u001b[1;33m \u001b[0mdict1\u001b[0m\u001b[1;33m[\u001b[0m\u001b[1;34m'nome'\u001b[0m\u001b[1;33m]\u001b[0m \u001b[1;33m=\u001b[0m \u001b[1;34m'maria'\u001b[0m\u001b[1;33m\u001b[0m\u001b[1;33m\u001b[0m\u001b[0m\n\u001b[0m\u001b[0;32m      2\u001b[0m \u001b[0mprint\u001b[0m\u001b[1;33m(\u001b[0m\u001b[0mdict1\u001b[0m\u001b[1;33m)\u001b[0m\u001b[1;33m\u001b[0m\u001b[1;33m\u001b[0m\u001b[0m\n",
      "\u001b[1;31mTypeError\u001b[0m: 'set' object does not support item assignment"
     ]
    }
   ],
   "source": [
    "dict1['nome'] = 'maria'\n",
    "print(dict1)"
   ]
  },
  {
   "cell_type": "code",
   "execution_count": null,
   "id": "14cd7ae6",
   "metadata": {},
   "outputs": [],
   "source": [
    "#correção por favor"
   ]
  },
  {
   "cell_type": "code",
   "execution_count": 2,
   "id": "cb293427",
   "metadata": {},
   "outputs": [
    {
     "name": "stdout",
     "output_type": "stream",
     "text": [
      "{'nome2: leonardo', 'numero2: [1, 2]', 'nome3: sabrina', 'nome1: amanda', 'numero: 3'}\n"
     ]
    }
   ],
   "source": [
    "dict2 = {'nome1: amanda', 'nome2: leonardo', 'nome3: sabrina', 'numero: 3', 'numero2: [1, 2]'}\n",
    "print(dict2)"
   ]
  },
  {
   "cell_type": "code",
   "execution_count": 7,
   "id": "ac9410e8",
   "metadata": {},
   "outputs": [
    {
     "data": {
      "text/plain": [
       "'u amo a Milk, mes'"
      ]
     },
     "execution_count": 7,
     "metadata": {},
     "output_type": "execute_result"
    }
   ],
   "source": [
    "cdd = ('Eu amo a Milk, mesmo ela sendo muito fedida')\n",
    "cdd[1:18]"
   ]
  },
  {
   "cell_type": "code",
   "execution_count": null,
   "id": "666961f6",
   "metadata": {},
   "outputs": [],
   "source": [
    "#FIM"
   ]
  }
 ],
 "metadata": {
  "kernelspec": {
   "display_name": "Python 3 (ipykernel)",
   "language": "python",
   "name": "python3"
  },
  "language_info": {
   "codemirror_mode": {
    "name": "ipython",
    "version": 3
   },
   "file_extension": ".py",
   "mimetype": "text/x-python",
   "name": "python",
   "nbconvert_exporter": "python",
   "pygments_lexer": "ipython3",
   "version": "3.9.13"
  }
 },
 "nbformat": 4,
 "nbformat_minor": 5
}
