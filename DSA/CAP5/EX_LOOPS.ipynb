{
 "cells": [
  {
   "cell_type": "code",
   "execution_count": 1,
   "id": "a13a5030",
   "metadata": {},
   "outputs": [
    {
     "name": "stdout",
     "output_type": "stream",
     "text": [
      "Que dia da semana é hoje DOmiNgo\n",
      "Você precisa trabalhar!\n"
     ]
    }
   ],
   "source": [
    "dia = input(\"Que dia da semana é hoje\" \" \").capitalize()\n",
    "if dia in [\"sábado\", \"domingo\"]:\n",
    "    print(\"Hoje é dia de descanso\")\n",
    "else:\n",
    "    print(\"Você precisa trabalhar!\")\n",
    "    \n",
    "#usei o capitalize pois aprendi no chat gpt pra fazer meus códigos com a Alice\n",
    "#mas não sei corrigir se a pessoa digitar assim:"
   ]
  },
  {
   "cell_type": "code",
   "execution_count": 7,
   "id": "844f1f4f",
   "metadata": {},
   "outputs": [
    {
     "name": "stdout",
     "output_type": "stream",
     "text": [
      "Não tem morango na lista\n"
     ]
    }
   ],
   "source": [
    "frutas = [\"Maça\", \"Acerola\", \"Melancia\", \"Banana\"]\n",
    "if \"Morango\" in frutas:\n",
    "    print(\"Morango está na lista\")\n",
    "else:\n",
    "    print(\"Não tem morango na lista\")"
   ]
  },
  {
   "cell_type": "code",
   "execution_count": 11,
   "id": "c45069fc",
   "metadata": {},
   "outputs": [
    {
     "name": "stdout",
     "output_type": "stream",
     "text": [
      "[2, 4, 6, 8]\n"
     ]
    }
   ],
   "source": [
    "elementos = (1, 2, 3, 4)\n",
    "lista = []\n",
    "for a in elementos:\n",
    "    m2 = a * 2\n",
    "    lista.append(m2)\n",
    "print(lista)"
   ]
  },
  {
   "cell_type": "code",
   "execution_count": 14,
   "id": "45052ed9",
   "metadata": {},
   "outputs": [
    {
     "name": "stdout",
     "output_type": "stream",
     "text": [
      "100\n",
      "102\n",
      "104\n",
      "106\n",
      "108\n",
      "110\n",
      "112\n",
      "114\n",
      "116\n",
      "118\n",
      "120\n",
      "122\n",
      "124\n",
      "126\n",
      "128\n",
      "130\n",
      "132\n",
      "134\n",
      "136\n",
      "138\n",
      "140\n",
      "142\n",
      "144\n",
      "146\n",
      "148\n",
      "150\n"
     ]
    }
   ],
   "source": [
    "for n1 in range(100, 151, 2):\n",
    "    print(n1)"
   ]
  },
  {
   "cell_type": "code",
   "execution_count": 22,
   "id": "19cb5f71",
   "metadata": {},
   "outputs": [],
   "source": [
    "temperatura = 40\n",
    "while temperatura < 35:\n",
    "    print(temperatura)\n",
    "    temperatura -=1"
   ]
  },
  {
   "cell_type": "code",
   "execution_count": null,
   "id": "de73d73c",
   "metadata": {},
   "outputs": [],
   "source": []
  },
  {
   "cell_type": "code",
   "execution_count": null,
   "id": "71590dfa",
   "metadata": {},
   "outputs": [],
   "source": []
  }
 ],
 "metadata": {
  "kernelspec": {
   "display_name": "Python 3 (ipykernel)",
   "language": "python",
   "name": "python3"
  },
  "language_info": {
   "codemirror_mode": {
    "name": "ipython",
    "version": 3
   },
   "file_extension": ".py",
   "mimetype": "text/x-python",
   "name": "python",
   "nbconvert_exporter": "python",
   "pygments_lexer": "ipython3",
   "version": "3.9.13"
  }
 },
 "nbformat": 4,
 "nbformat_minor": 5
}
