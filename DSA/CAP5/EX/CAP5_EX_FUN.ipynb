{
 "cells": [
  {
   "cell_type": "code",
   "execution_count": null,
   "id": "0dd4877b",
   "metadata": {},
   "outputs": [],
   "source": []
  },
  {
   "cell_type": "code",
   "execution_count": 13,
   "id": "8e35b004",
   "metadata": {},
   "outputs": [
    {
     "name": "stdout",
     "output_type": "stream",
     "text": [
      "2\n",
      "4\n",
      "6\n",
      "8\n",
      "10\n",
      "12\n",
      "14\n",
      "16\n",
      "18\n",
      "20\n"
     ]
    }
   ],
   "source": [
    "def numerospares1a20():\n",
    "    for m in range(2, 21, 2):\n",
    "        print(m)\n",
    "numerospares1a20()"
   ]
  },
  {
   "cell_type": "code",
   "execution_count": 22,
   "id": "8474bb0f",
   "metadata": {},
   "outputs": [
    {
     "name": "stdout",
     "output_type": "stream",
     "text": [
      "EU AMO A MILK\n"
     ]
    }
   ],
   "source": [
    "def milk(frase):\n",
    "    print(frase.upper())\n",
    "    return\n",
    "milk(\"eu amo a milk\")"
   ]
  },
  {
   "cell_type": "code",
   "execution_count": 29,
   "id": "7e61c1d5",
   "metadata": {},
   "outputs": [
    {
     "name": "stdout",
     "output_type": "stream",
     "text": [
      "['nome', 'cor', 'fruta', 'comida', 'cidade', 'corpo humano']\n"
     ]
    }
   ],
   "source": [
    "def listaelementosadd2(lista1):\n",
    "    lista1.append('cidade')\n",
    "    lista1.append('corpo humano')\n",
    "listaelementosadd = ['nome', 'cor', 'fruta', 'comida']\n",
    "listaelementosadd2(listaelementosadd)\n",
    "print(listaelementosadd)"
   ]
  },
  {
   "cell_type": "code",
   "execution_count": 8,
   "id": "b4d1086b",
   "metadata": {},
   "outputs": [
    {
     "name": "stdout",
     "output_type": "stream",
     "text": [
      "30\n",
      "Milk\n"
     ]
    }
   ],
   "source": [
    "def ex4 (frase1, *lista2):\n",
    "    print(frase1)\n",
    "    for i in lista2:\n",
    "        print(i)\n",
    "    return;\n",
    "ex4(30)\n",
    "ex4('Milk')\n",
    "\n",
    "    "
   ]
  },
  {
   "cell_type": "code",
   "execution_count": 32,
   "id": "f103a8ae",
   "metadata": {
    "scrolled": true
   },
   "outputs": [
    {
     "name": "stdout",
     "output_type": "stream",
     "text": [
      "A soma é 5\n"
     ]
    }
   ],
   "source": [
    "soma = lambda soma1, soma2: soma1 + soma2\n",
    "print(\"A soma é\", soma(2, 3))"
   ]
  },
  {
   "cell_type": "code",
   "execution_count": 33,
   "id": "73d3c823",
   "metadata": {},
   "outputs": [
    {
     "name": "stdout",
     "output_type": "stream",
     "text": [
      "Dentro da função o total é:  30\n",
      "Fora da função o total é:  0\n"
     ]
    }
   ],
   "source": [
    "total = 0\n",
    "def soma( arg1, arg2 ):\n",
    "    total = arg1 + arg2; \n",
    "    print (\"Dentro da função o total é: \", total)\n",
    "    return total;\n",
    "\n",
    "\n",
    "soma( 10, 20 );\n",
    "print (\"Fora da função o total é: \", total)"
   ]
  },
  {
   "cell_type": "code",
   "execution_count": 1,
   "id": "ae400cd0",
   "metadata": {},
   "outputs": [
    {
     "name": "stdout",
     "output_type": "stream",
     "text": [
      "[102.56, 97.7, 99.14, 100.03999999999999]\n"
     ]
    }
   ],
   "source": [
    "celsius = [39.2, 36.5, 37.3, 37.8]\n",
    "fahr = map(lambda m: (float(9)/5)*m + 32, celsius)\n",
    "print (list(fahr))\n",
    "#(0 °C × 9/5) + 32 = 32 °F\n",
    "#essa eu olhei e preciso de mais explicações sobre a função map e iter, \n",
    "#como ela serve exatamente, procurei no google e não entendi"
   ]
  },
  {
   "cell_type": "code",
   "execution_count": 40,
   "id": "b7038f14",
   "metadata": {},
   "outputs": [
    {
     "data": {
      "text/plain": [
       "[1, 4, 9, 16, 25, 36, 49, 64, 81, 100]"
      ]
     },
     "execution_count": 40,
     "metadata": {},
     "output_type": "execute_result"
    }
   ],
   "source": [
    "[x**2 for x in range(1,11)]"
   ]
  },
  {
   "cell_type": "code",
   "execution_count": 4,
   "id": "26678f92",
   "metadata": {},
   "outputs": [
    {
     "name": "stdout",
     "output_type": "stream",
     "text": [
      "['maça', 'coiote', 'banana', 'terreno', 'Python']\n"
     ]
    }
   ],
   "source": [
    "palavras = [\"maça\", \"coiote\", \"banana\", \"terreno\", \"Python\"]\n",
    "letra_a = [b for b in palavras if \"a\" in b]\n",
    "#letra_a = [b for b in palavras if \"a\" in b]\n",
    "print(letra_a)\n",
    "#eu não entendi o pq do B no inicio, mas eu fui testando até dar certo, \n",
    "#olhei no chat gpt agora e o b no inicio cria uma lista vazia\n"
   ]
  },
  {
   "cell_type": "code",
   "execution_count": 2,
   "id": "fb0dbb68",
   "metadata": {},
   "outputs": [
    {
     "ename": "SyntaxError",
     "evalue": "invalid syntax (1338991455.py, line 1)",
     "output_type": "error",
     "traceback": [
      "\u001b[1;36m  File \u001b[1;32m\"C:\\Users\\Vic\\AppData\\Local\\Temp\\ipykernel_13468\\1338991455.py\"\u001b[1;36m, line \u001b[1;32m1\u001b[0m\n\u001b[1;33m    b for b in palavras:\u001b[0m\n\u001b[1;37m      ^\u001b[0m\n\u001b[1;31mSyntaxError\u001b[0m\u001b[1;31m:\u001b[0m invalid syntax\n"
     ]
    }
   ],
   "source": [
    "for b in palavras: \n",
    "    if b in if (\"a\") in b:\n",
    "        print(b)\n",
    "#fazer um codigo menor c/ filtro de A"
   ]
  },
  {
   "cell_type": "code",
   "execution_count": 67,
   "id": "4dd08fda",
   "metadata": {},
   "outputs": [
    {
     "name": "stdout",
     "output_type": "stream",
     "text": [
      "[0, 1, 2, 3, 4]\n"
     ]
    }
   ],
   "source": [
    "numeros = [0, 1, 2, 3, 4, 5, 6, 7, 8, 9, 10,]\n",
    "men5 = [n for n in numeros if n < 5]\n",
    "print(men5)"
   ]
  },
  {
   "cell_type": "code",
   "execution_count": 69,
   "id": "abbdc4e1",
   "metadata": {},
   "outputs": [
    {
     "name": "stdout",
     "output_type": "stream",
     "text": [
      "[0, 1, 2, 3, 4]\n"
     ]
    }
   ],
   "source": [
    "#CORREÇÃO: \n",
    "resultado = [x for x in range(11) if x < 5]\n",
    "print(resultado)"
   ]
  },
  {
   "cell_type": "code",
   "execution_count": null,
   "id": "1411896f",
   "metadata": {},
   "outputs": [],
   "source": []
  }
 ],
 "metadata": {
  "kernelspec": {
   "display_name": "Python 3 (ipykernel)",
   "language": "python",
   "name": "python3"
  },
  "language_info": {
   "codemirror_mode": {
    "name": "ipython",
    "version": 3
   },
   "file_extension": ".py",
   "mimetype": "text/x-python",
   "name": "python",
   "nbconvert_exporter": "python",
   "pygments_lexer": "ipython3",
   "version": "3.9.13"
  }
 },
 "nbformat": 4,
 "nbformat_minor": 5
}
