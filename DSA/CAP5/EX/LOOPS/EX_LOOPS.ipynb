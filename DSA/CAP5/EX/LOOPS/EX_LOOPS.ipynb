{
 "cells": [
  {
   "cell_type": "code",
   "execution_count": null,
   "id": "a13a5030",
   "metadata": {},
   "outputs": [],
   "source": [
    "dia = input(\"Que dia da semana é hoje\" \" \").capitalize()\n",
    "if dia in [\"Sábado\", \"Domingo\", \"Sabado\"]:\n",
    "    print(\"Hoje é dia de descanso\")\n",
    "else:\n",
    "    print(\"Você precisa trabalhar!\")\n",
    "    \n",
    "#usei o capitalize pois aprendi no chat gpt pra fazer meus códigos com a Alice\n",
    "#mas não sei corrigir se a pessoa digitar assim: DoMIngo"
   ]
  },
  {
   "cell_type": "code",
   "execution_count": null,
   "id": "844f1f4f",
   "metadata": {},
   "outputs": [],
   "source": [
    "frutas = [\"Maça\", \"Acerola\", \"Melancia\", \"Banana\"]\n",
    "if \"Morango\" in frutas:\n",
    "    print(\"Morango está na lista\")\n",
    "else:\n",
    "    print(\"Não tem morango na lista\")"
   ]
  },
  {
   "cell_type": "code",
   "execution_count": null,
   "id": "c45069fc",
   "metadata": {},
   "outputs": [],
   "source": [
    "elementos = (1, 2, 3, 4)\n",
    "lista = []\n",
    "for a in elementos:\n",
    "    m2 = a * 2\n",
    "    lista.append(m2)\n",
    "print(lista)"
   ]
  },
  {
   "cell_type": "code",
   "execution_count": null,
   "id": "45052ed9",
   "metadata": {},
   "outputs": [],
   "source": [
    "for n1 in range(100, 151, 2):\n",
    "    print(n1)"
   ]
  },
  {
   "cell_type": "code",
   "execution_count": null,
   "id": "19cb5f71",
   "metadata": {},
   "outputs": [],
   "source": [
    "temperatura = 40\n",
    "while temperatura < 35:\n",
    "    print(temperatura)\n",
    "    temperatura -=1"
   ]
  },
  {
   "cell_type": "code",
   "execution_count": 1,
   "id": "de73d73c",
   "metadata": {},
   "outputs": [
    {
     "name": "stdout",
     "output_type": "stream",
     "text": [
      "0\n",
      "1\n",
      "2\n",
      "3\n",
      "4\n",
      "5\n",
      "6\n",
      "7\n",
      "8\n",
      "9\n",
      "10\n",
      "11\n",
      "12\n",
      "13\n",
      "14\n",
      "15\n",
      "16\n",
      "17\n",
      "18\n",
      "19\n",
      "20\n",
      "21\n",
      "22\n"
     ]
    }
   ],
   "source": [
    "contador = 0\n",
    "while contador < 100:\n",
    "    if contador == 23:\n",
    "        break\n",
    "    print(contador)\n",
    "    contador +=1"
   ]
  },
  {
   "cell_type": "code",
   "execution_count": 5,
   "id": "71590dfa",
   "metadata": {},
   "outputs": [
    {
     "name": "stdout",
     "output_type": "stream",
     "text": [
      "[4, 6, 8, 10, 12, 14, 16, 18, 20]\n"
     ]
    }
   ],
   "source": [
    "lista2 = []\n",
    "valor = 4\n",
    "while (valor <=20):\n",
    "    lista2.append(valor)\n",
    "    valor = valor + 2\n",
    "print(lista2)\n",
    "\n",
    "        "
   ]
  },
  {
   "cell_type": "code",
   "execution_count": 6,
   "id": "ac876161",
   "metadata": {},
   "outputs": [
    {
     "name": "stdout",
     "output_type": "stream",
     "text": [
      "[5, 7, 9, 11, 13, 15, 17, 19, 21, 23, 25, 27, 29, 31, 33, 35, 37, 39, 41, 43]\n"
     ]
    }
   ],
   "source": [
    "nums = range(5, 45, 2)\n",
    "print(list(nums))"
   ]
  },
  {
   "cell_type": "code",
   "execution_count": 11,
   "id": "444895e5",
   "metadata": {},
   "outputs": [
    {
     "name": "stdout",
     "output_type": "stream",
     "text": [
      "Qual a temperatura? 29\n",
      "Busque seus casacos.\n"
     ]
    }
   ],
   "source": [
    "temperatura = float(input('Qual a temperatura? '))\n",
    "if temperatura > 30:\n",
    "    print('Vista roupas leves.')\n",
    "else:\n",
    "    print('Busque seus casacos.')"
   ]
  },
  {
   "cell_type": "code",
   "execution_count": 17,
   "id": "195e0dd8",
   "metadata": {},
   "outputs": [
    {
     "name": "stdout",
     "output_type": "stream",
     "text": [
      "O caracter r aparece 5 vezes na frase.\n"
     ]
    }
   ],
   "source": [
    "frase = \"A gratidão é a virtude das almas nobres. O quão feliz é uma pessoa depende da profundidade de sua gratidão.\"\n",
    "count = 0\n",
    "for caracter in frase: \n",
    "    if caracter == \"r\":\n",
    "        count +=1\n",
    "print(\"O caracter r aparece %s vezes na frase.\" %(count))"
   ]
  },
  {
   "cell_type": "code",
   "execution_count": null,
   "id": "c9842754",
   "metadata": {},
   "outputs": [],
   "source": [
    "# %s dentro da string → Esse é um espaço reservado para inserir um valor.\n",
    "# Depois da string, % (count) → Isso diz ao Python que queremos substituir %s pelo valor da variável count."
   ]
  }
 ],
 "metadata": {
  "kernelspec": {
   "display_name": "Python 3 (ipykernel)",
   "language": "python",
   "name": "python3"
  },
  "language_info": {
   "codemirror_mode": {
    "name": "ipython",
    "version": 3
   },
   "file_extension": ".py",
   "mimetype": "text/x-python",
   "name": "python",
   "nbconvert_exporter": "python",
   "pygments_lexer": "ipython3",
   "version": "3.9.13"
  }
 },
 "nbformat": 4,
 "nbformat_minor": 5
}
