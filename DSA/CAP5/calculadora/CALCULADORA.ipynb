{
 "cells": [
  {
   "cell_type": "code",
   "execution_count": null,
   "id": "d8bbc0d1",
   "metadata": {},
   "outputs": [
    {
     "name": "stdout",
     "output_type": "stream",
     "text": [
      "⇨ Operações disponíveis:\n",
      "+  ➝ Soma\n",
      "-  ➝ Subtração\n",
      "*  ➝ Multiplicação\n",
      "/  ➝ Divisão\n",
      "** ➝ Potência\n",
      "%  ➝ Porcentagem\n"
     ]
    }
   ],
   "source": [
    "def calculadora():\n",
    "    print(\"⇨ Operações disponíveis:\")\n",
    "    print(\"+  ➝ Soma\")\n",
    "    print(\"-  ➝ Subtração\")\n",
    "    print(\"*  ➝ Multiplicação\")\n",
    "    print(\"/  ➝ Divisão\")\n",
    "    print(\"** ➝ Potência\")\n",
    "    print(\"%  ➝ Porcentagem\")\n",
    "\n",
    "    operacao = input(\"⇨ Escolha uma operação: \")\n",
    "    x = float(input(\"⇨ Digite o primeiro número: \"))\n",
    "    y = float(input(\"⇨ Digite o segundo número: \"))\n",
    "\n",
    "    if operacao == '+':\n",
    "        print(f\"Resultado: {x + y}\")\n",
    "    elif operacao == '-':\n",
    "        print(f\"Resultado: {x - y}\")\n",
    "    elif operacao == '*':\n",
    "        print(f\"Resultado: {x * y}\")\n",
    "    elif operacao == '/':\n",
    "        print(f\"Resultado: {x / y if y != 0 else '❌Erro: divisão por zero❌'}\")\n",
    "    elif operacao == '**':\n",
    "        print(f\"Resultado: {x ** y}\")\n",
    "    elif operacao == '%':\n",
    "        print(f\"Resultado: {x * y / 100}\")\n",
    "    else:\n",
    "        print(\"❌Operação inválida.❌\")\n",
    "\n",
    "calculadora()"
   ]
  },
  {
   "cell_type": "code",
   "execution_count": null,
   "id": "0320d956",
   "metadata": {},
   "outputs": [],
   "source": [
    "#f simplifica o processo de inclusão de variáveis dentro de strings\n",
    "    "
   ]
  },
  {
   "cell_type": "code",
   "execution_count": null,
   "id": "91fb3f7a",
   "metadata": {},
   "outputs": [],
   "source": []
  }
 ],
 "metadata": {
  "kernelspec": {
   "display_name": "Python 3 (ipykernel)",
   "language": "python",
   "name": "python3"
  },
  "language_info": {
   "codemirror_mode": {
    "name": "ipython",
    "version": 3
   },
   "file_extension": ".py",
   "mimetype": "text/x-python",
   "name": "python",
   "nbconvert_exporter": "python",
   "pygments_lexer": "ipython3",
   "version": "3.9.13"
  }
 },
 "nbformat": 4,
 "nbformat_minor": 5
}
